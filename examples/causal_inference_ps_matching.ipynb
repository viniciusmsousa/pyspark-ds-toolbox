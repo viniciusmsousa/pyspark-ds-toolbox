{
 "cells": [
  {
   "cell_type": "markdown",
   "metadata": {},
   "source": [
    "# Propensity Score Matching for Estimating the CATE\n",
    "\n",
    "For a full explanation see this [link](https://mixtape.scunning.com/matching-and-subclassification.html#propensity-score-methods)."
   ]
  },
  {
   "cell_type": "markdown",
   "metadata": {},
   "source": [
    "## Session Setup"
   ]
  },
  {
   "cell_type": "code",
   "execution_count": 5,
   "metadata": {},
   "outputs": [],
   "source": [
    "import pandas as pd\n",
    "from pyspark.sql import SparkSession, functions as F\n",
    "from pyspark_ds_toolbox.ml.data_prep.features_vector import get_features_vector\n",
    "\n",
    "import pyspark_ds_toolbox.causal_inference.ps_matching as ps"
   ]
  },
  {
   "cell_type": "code",
   "execution_count": 2,
   "metadata": {},
   "outputs": [
    {
     "name": "stderr",
     "output_type": "stream",
     "text": [
      "Using Spark's default log4j profile: org/apache/spark/log4j-defaults.properties\n",
      "Setting default log level to \"WARN\".\n",
      "To adjust logging level use sc.setLogLevel(newLevel). For SparkR, use setLogLevel(newLevel).\n",
      "22/01/18 14:26:35 WARN NativeCodeLoader: Unable to load native-hadoop library for your platform... using builtin-java classes where applicable\n",
      "22/01/18 14:26:36 WARN Utils: Service 'SparkUI' could not bind on port 4040. Attempting port 4041.\n"
     ]
    }
   ],
   "source": [
    "spark = SparkSession.builder\\\n",
    "                .appName('Spark-Toolbox') \\\n",
    "                .master('local[1]') \\\n",
    "                .config('spark.executor.memory', '3G') \\\n",
    "                .config('spark.driver.memory', '3G') \\\n",
    "                .config('spark.memory.offHeap.enabled', 'true') \\\n",
    "                .config('spark.memory.offHeap.size', '3G') \\\n",
    "                .getOrCreate()\n",
    "\n",
    "spark.sparkContext.setLogLevel(\"ERROR\")"
   ]
  },
  {
   "cell_type": "markdown",
   "metadata": {},
   "source": [
    "## Reading the Dataset"
   ]
  },
  {
   "cell_type": "code",
   "execution_count": 6,
   "metadata": {},
   "outputs": [
    {
     "name": "stderr",
     "output_type": "stream",
     "text": [
      "[Stage 0:>                                                          (0 + 1) / 1]\r"
     ]
    },
    {
     "name": "stdout",
     "output_type": "stream",
     "text": [
      "+-----+-----+----+----+-----+----+----+--------+----+----+--------+------+-------+-----+---------+---+---+--------------------+\n",
      "|index|treat| age|educ|black|hisp|marr|nodegree|re74|re75|    re78|  age2|   age3|educ2|educ_re74|u74|u75|            features|\n",
      "+-----+-----+----+----+-----+----+----+--------+----+----+--------+------+-------+-----+---------+---+---+--------------------+\n",
      "|    0|  1.0|37.0|11.0|  1.0| 0.0| 1.0|     1.0| 0.0| 0.0|9930.046|1369.0|50653.0|121.0|      0.0|  1|  1|[37.0,1369.0,5065...|\n",
      "|    1|  1.0|22.0| 9.0|  0.0| 1.0| 0.0|     1.0| 0.0| 0.0|3595.894| 484.0|10648.0| 81.0|      0.0|  1|  1|[22.0,484.0,10648...|\n",
      "|    2|  1.0|30.0|12.0|  1.0| 0.0| 0.0|     0.0| 0.0| 0.0|24909.45| 900.0|27000.0|144.0|      0.0|  1|  1|(14,[0,1,2,3,4,7,...|\n",
      "|    3|  1.0|27.0|11.0|  1.0| 0.0| 0.0|     1.0| 0.0| 0.0|7506.146| 729.0|19683.0|121.0|      0.0|  1|  1|[27.0,729.0,19683...|\n",
      "|    4|  1.0|33.0| 8.0|  1.0| 0.0| 0.0|     1.0| 0.0| 0.0|289.7899|1089.0|35937.0| 64.0|      0.0|  1|  1|[33.0,1089.0,3593...|\n",
      "+-----+-----+----+----+-----+----+----+--------+----+----+--------+------+-------+-----+---------+---+---+--------------------+\n",
      "only showing top 5 rows\n",
      "\n"
     ]
    },
    {
     "name": "stderr",
     "output_type": "stream",
     "text": [
      "                                                                                \r"
     ]
    }
   ],
   "source": [
    "df = pd.read_csv('../tests/data/df_causal_inference.csv')\n",
    "df.reset_index(level=0, inplace=True)\n",
    "\n",
    "df = spark.createDataFrame(df.drop(columns=['data_id']))\\\n",
    "    .withColumn('age2', F.col('age')**2)\\\n",
    "    .withColumn('age3', F.col('age')**3)\\\n",
    "    .withColumn('educ2', F.col('educ')**2)\\\n",
    "    .withColumn('educ_re74', F.col('educ')*F.col('re74'))\\\n",
    "    .withColumn('u74', F.when(F.col('re74')==0, 1).otherwise(0))\\\n",
    "    .withColumn('u75', F.when(F.col('re75')==0, 1).otherwise(0))\n",
    "\n",
    "features=['age', 'age2', 'age3', 'educ', 'educ2', 'marr', 'nodegree', 'black', 'hisp', 're74', 're75', 'u74', 'u75', 'educ_re74']\n",
    "df_assembled = get_features_vector(df=df, num_features=features)\n",
    "df_assembled.show(5)"
   ]
  },
  {
   "cell_type": "markdown",
   "metadata": {},
   "source": [
    "## Estimating the Propensity Scores"
   ]
  },
  {
   "cell_type": "code",
   "execution_count": 7,
   "metadata": {},
   "outputs": [
    {
     "name": "stdout",
     "output_type": "stream",
     "text": [
      "logistic_regression: Starting\n",
      "logistic_regression: Fitting Pipeline\n"
     ]
    },
    {
     "name": "stderr",
     "output_type": "stream",
     "text": [
      "                                                                                \r"
     ]
    },
    {
     "name": "stdout",
     "output_type": "stream",
     "text": [
      "logistic_regression: Making Predictions on test data\n"
     ]
    },
    {
     "name": "stderr",
     "output_type": "stream",
     "text": [
      "                                                                                \r"
     ]
    },
    {
     "name": "stdout",
     "output_type": "stream",
     "text": [
      "decision_tree: Starting\n",
      "decision_tree: Fitting Pipeline\n"
     ]
    },
    {
     "name": "stderr",
     "output_type": "stream",
     "text": [
      "                                                                                \r"
     ]
    },
    {
     "name": "stdout",
     "output_type": "stream",
     "text": [
      "decision_tree: Making Predictions on test data\n",
      "random_forest: Starting\n",
      "random_forest: Fitting Pipeline\n",
      "random_forest: Making Predictions on test data\n",
      "gradient_boosting: Starting\n",
      "gradient_boosting: Fitting Pipeline\n",
      "gradient_boosting: Making Predictions on test data\n"
     ]
    }
   ],
   "source": [
    "df_ps, df_eval = ps.compute_propensity_score(\n",
    "    df=df_assembled,\n",
    "    y='re78',\n",
    "    treat='treat',\n",
    "    id='index',\n",
    "    featuresCol='features',\n",
    "    train_size=0.8\n",
    ")"
   ]
  },
  {
   "cell_type": "code",
   "execution_count": 8,
   "metadata": {},
   "outputs": [
    {
     "name": "stdout",
     "output_type": "stream",
     "text": [
      "+-----+-----------+-----+--------+\n",
      "|index|         ps|treat|    re78|\n",
      "+-----+-----------+-----+--------+\n",
      "|    0|  0.1703515|  1.0|9930.046|\n",
      "|    1|0.121535905|  1.0|3595.894|\n",
      "|    2| 0.36807796|  1.0|24909.45|\n",
      "|    3| 0.43302533|  1.0|7506.146|\n",
      "|    4|  0.5246924|  1.0|289.7899|\n",
      "+-----+-----------+-----+--------+\n",
      "only showing top 5 rows\n",
      "\n"
     ]
    }
   ],
   "source": [
    "df_ps.show(5)"
   ]
  },
  {
   "cell_type": "code",
   "execution_count": 10,
   "metadata": {},
   "outputs": [
    {
     "data": {
      "text/html": [
       "<div>\n",
       "<style scoped>\n",
       "    .dataframe tbody tr th:only-of-type {\n",
       "        vertical-align: middle;\n",
       "    }\n",
       "\n",
       "    .dataframe tbody tr th {\n",
       "        vertical-align: top;\n",
       "    }\n",
       "\n",
       "    .dataframe thead th {\n",
       "        text-align: right;\n",
       "    }\n",
       "</style>\n",
       "<table border=\"1\" class=\"dataframe\">\n",
       "  <thead>\n",
       "    <tr style=\"text-align: right;\">\n",
       "      <th></th>\n",
       "      <th>model</th>\n",
       "      <th>ks_max</th>\n",
       "      <th>at_decile</th>\n",
       "      <th>precision</th>\n",
       "      <th>recall</th>\n",
       "    </tr>\n",
       "  </thead>\n",
       "  <tbody>\n",
       "    <tr>\n",
       "      <th>0</th>\n",
       "      <td>logistic_regression</td>\n",
       "      <td>7.954507e-01</td>\n",
       "      <td>1.0</td>\n",
       "      <td>0.072072</td>\n",
       "      <td>0.888889</td>\n",
       "    </tr>\n",
       "    <tr>\n",
       "      <th>0</th>\n",
       "      <td>decision_tree</td>\n",
       "      <td>1.110223e-16</td>\n",
       "      <td>10.0</td>\n",
       "      <td>0.008098</td>\n",
       "      <td>1.000000</td>\n",
       "    </tr>\n",
       "    <tr>\n",
       "      <th>0</th>\n",
       "      <td>random_forest</td>\n",
       "      <td>7.060780e-01</td>\n",
       "      <td>3.0</td>\n",
       "      <td>0.027027</td>\n",
       "      <td>1.000000</td>\n",
       "    </tr>\n",
       "    <tr>\n",
       "      <th>0</th>\n",
       "      <td>gradient_boosting</td>\n",
       "      <td>8.327902e-01</td>\n",
       "      <td>1.0</td>\n",
       "      <td>0.075075</td>\n",
       "      <td>0.925926</td>\n",
       "    </tr>\n",
       "  </tbody>\n",
       "</table>\n",
       "</div>"
      ],
      "text/plain": [
       "                 model        ks_max  at_decile  precision    recall\n",
       "0  logistic_regression  7.954507e-01        1.0   0.072072  0.888889\n",
       "0        decision_tree  1.110223e-16       10.0   0.008098  1.000000\n",
       "0        random_forest  7.060780e-01        3.0   0.027027  1.000000\n",
       "0    gradient_boosting  8.327902e-01        1.0   0.075075  0.925926"
      ]
     },
     "execution_count": 10,
     "metadata": {},
     "output_type": "execute_result"
    }
   ],
   "source": [
    "df_eval.head(5)"
   ]
  },
  {
   "cell_type": "markdown",
   "metadata": {},
   "source": [
    "### Calculating the ATE"
   ]
  },
  {
   "cell_type": "code",
   "execution_count": 12,
   "metadata": {},
   "outputs": [
    {
     "name": "stderr",
     "output_type": "stream",
     "text": [
      "                                                                                \r"
     ]
    },
    {
     "data": {
      "text/plain": [
       "1718.586581036139"
      ]
     },
     "execution_count": 12,
     "metadata": {},
     "output_type": "execute_result"
    }
   ],
   "source": [
    "ate = ps.estimate_causal_effect(df_ps=df_ps, y='re78', treat='treat', ps='ps')\n",
    "\n",
    "ate"
   ]
  },
  {
   "cell_type": "code",
   "execution_count": null,
   "metadata": {},
   "outputs": [],
   "source": []
  }
 ],
 "metadata": {
  "interpreter": {
   "hash": "604c540002d7c1a602a115001e40004a700e7e1b29ae4331249882fda5e70a0c"
  },
  "kernelspec": {
   "display_name": "Python 3.7.10 64-bit ('pyspark-ds-toolbox-Fn-Rjt-3-py3.7': poetry)",
   "language": "python",
   "name": "python3"
  },
  "language_info": {
   "codemirror_mode": {
    "name": "ipython",
    "version": 3
   },
   "file_extension": ".py",
   "mimetype": "text/x-python",
   "name": "python",
   "nbconvert_exporter": "python",
   "pygments_lexer": "ipython3",
   "version": "3.7.10"
  },
  "orig_nbformat": 4
 },
 "nbformat": 4,
 "nbformat_minor": 2
}
