{
 "cells": [
  {
   "cell_type": "markdown",
   "metadata": {},
   "source": [
    "# Evaluation of Classification Models\n"
   ]
  },
  {
   "cell_type": "markdown",
   "metadata": {},
   "source": [
    "## Session Setup"
   ]
  },
  {
   "cell_type": "code",
   "execution_count": 1,
   "metadata": {},
   "outputs": [
    {
     "name": "stderr",
     "output_type": "stream",
     "text": [
      "WARNING:root:'PYARROW_IGNORE_TIMEZONE' environment variable was not set. It is required to set this environment variable to '1' in both driver and executor sides if you use pyarrow>=2.0.0. pandas-on-Spark will set it for you but it does not work if there is a Spark context already launched.\n"
     ]
    }
   ],
   "source": [
    "import pandas as pd\n",
    "from pyspark.sql import SparkSession, functions as F\n",
    "\n",
    "from pyspark_ds_toolbox.ml.classification import eval as cl_ev "
   ]
  },
  {
   "cell_type": "code",
   "execution_count": 2,
   "metadata": {},
   "outputs": [
    {
     "name": "stderr",
     "output_type": "stream",
     "text": [
      "Using Spark's default log4j profile: org/apache/spark/log4j-defaults.properties\n",
      "Setting default log level to \"WARN\".\n",
      "To adjust logging level use sc.setLogLevel(newLevel). For SparkR, use setLogLevel(newLevel).\n",
      "22/01/18 15:53:03 WARN NativeCodeLoader: Unable to load native-hadoop library for your platform... using builtin-java classes where applicable\n",
      "22/01/18 15:53:05 WARN Utils: Service 'SparkUI' could not bind on port 4040. Attempting port 4041.\n",
      "22/01/18 15:53:05 WARN Utils: Service 'SparkUI' could not bind on port 4041. Attempting port 4042.\n"
     ]
    }
   ],
   "source": [
    "spark = SparkSession.builder\\\n",
    "                .appName('Spark-Toolbox') \\\n",
    "                .master('local[1]') \\\n",
    "                .config('spark.executor.memory', '3G') \\\n",
    "                .config('spark.driver.memory', '3G') \\\n",
    "                .config('spark.memory.offHeap.enabled', 'true') \\\n",
    "                .config('spark.memory.offHeap.size', '3G') \\\n",
    "                .getOrCreate()\n",
    "\n",
    "spark.sparkContext.setLogLevel(\"ERROR\")\n",
    "spark.conf.set(\"spark.sql.execution.arrow.enabled\", \"true\")"
   ]
  },
  {
   "cell_type": "markdown",
   "metadata": {},
   "source": [
    "## Binary Classifiers"
   ]
  },
  {
   "cell_type": "markdown",
   "metadata": {},
   "source": [
    "### `binary_classificator_evaluator()`"
   ]
  },
  {
   "cell_type": "code",
   "execution_count": 15,
   "metadata": {},
   "outputs": [
    {
     "name": "stdout",
     "output_type": "stream",
     "text": [
      "+-----+------+---------+\n",
      "|index|target|predicted|\n",
      "+-----+------+---------+\n",
      "|    0|   1.0|      1.0|\n",
      "|    1|   1.0|      1.0|\n",
      "|    2|   1.0|      0.0|\n",
      "|    3|   1.0|      0.0|\n",
      "|    4|   1.0|      0.0|\n",
      "+-----+------+---------+\n",
      "only showing top 5 rows\n",
      "\n"
     ]
    }
   ],
   "source": [
    "df = pd.DataFrame({\n",
    "    'target': [1.0, 1.0, 1.0, 1.0, 1.0, 1.0, 0.0, 0.0, 0.0, 0.0],\n",
    "    'predicted': [1.0, 1.0, 0.0, 0.0, 0.0, 0.0, 0.0, 0.0, 0.0, 1.0]\n",
    "}).reset_index()\n",
    "df = spark.createDataFrame(df)\n",
    "df.show(5)"
   ]
  },
  {
   "cell_type": "code",
   "execution_count": 6,
   "metadata": {},
   "outputs": [
    {
     "data": {
      "text/plain": [
       "dict_keys(['confusion_matrix', 'accuracy', 'f1', 'precision', 'recall', 'aucroc', 'aucpr'])"
      ]
     },
     "execution_count": 6,
     "metadata": {},
     "output_type": "execute_result"
    }
   ],
   "source": [
    "out = cl_ev.binary_classificator_evaluator(\n",
    "    dfs_prediction=df,\n",
    "    col_target='target',\n",
    "    col_prediction='predicted'\n",
    ")\n",
    "out.keys()"
   ]
  },
  {
   "cell_type": "code",
   "execution_count": 7,
   "metadata": {},
   "outputs": [
    {
     "data": {
      "text/html": [
       "<div>\n",
       "<style scoped>\n",
       "    .dataframe tbody tr th:only-of-type {\n",
       "        vertical-align: middle;\n",
       "    }\n",
       "\n",
       "    .dataframe tbody tr th {\n",
       "        vertical-align: top;\n",
       "    }\n",
       "\n",
       "    .dataframe thead th {\n",
       "        text-align: right;\n",
       "    }\n",
       "</style>\n",
       "<table border=\"1\" class=\"dataframe\">\n",
       "  <thead>\n",
       "    <tr style=\"text-align: right;\">\n",
       "      <th></th>\n",
       "      <th>target</th>\n",
       "      <th>predicted</th>\n",
       "      <th>count</th>\n",
       "    </tr>\n",
       "  </thead>\n",
       "  <tbody>\n",
       "    <tr>\n",
       "      <th>0</th>\n",
       "      <td>1.0</td>\n",
       "      <td>1.0</td>\n",
       "      <td>2</td>\n",
       "    </tr>\n",
       "    <tr>\n",
       "      <th>1</th>\n",
       "      <td>0.0</td>\n",
       "      <td>1.0</td>\n",
       "      <td>1</td>\n",
       "    </tr>\n",
       "    <tr>\n",
       "      <th>2</th>\n",
       "      <td>1.0</td>\n",
       "      <td>0.0</td>\n",
       "      <td>4</td>\n",
       "    </tr>\n",
       "    <tr>\n",
       "      <th>3</th>\n",
       "      <td>0.0</td>\n",
       "      <td>0.0</td>\n",
       "      <td>3</td>\n",
       "    </tr>\n",
       "  </tbody>\n",
       "</table>\n",
       "</div>"
      ],
      "text/plain": [
       "   target  predicted  count\n",
       "0     1.0        1.0      2\n",
       "1     0.0        1.0      1\n",
       "2     1.0        0.0      4\n",
       "3     0.0        0.0      3"
      ]
     },
     "execution_count": 7,
     "metadata": {},
     "output_type": "execute_result"
    }
   ],
   "source": [
    "out['confusion_matrix']"
   ]
  },
  {
   "cell_type": "code",
   "execution_count": 8,
   "metadata": {},
   "outputs": [
    {
     "data": {
      "text/plain": [
       "0.5"
      ]
     },
     "execution_count": 8,
     "metadata": {},
     "output_type": "execute_result"
    }
   ],
   "source": [
    "out['accuracy']"
   ]
  },
  {
   "cell_type": "code",
   "execution_count": 9,
   "metadata": {},
   "outputs": [
    {
     "data": {
      "text/plain": [
       "0.4444444444444444"
      ]
     },
     "execution_count": 9,
     "metadata": {},
     "output_type": "execute_result"
    }
   ],
   "source": [
    "out['f1']"
   ]
  },
  {
   "cell_type": "code",
   "execution_count": 10,
   "metadata": {},
   "outputs": [
    {
     "data": {
      "text/plain": [
       "0.6666666666666666"
      ]
     },
     "execution_count": 10,
     "metadata": {},
     "output_type": "execute_result"
    }
   ],
   "source": [
    "out['precision']"
   ]
  },
  {
   "cell_type": "code",
   "execution_count": 11,
   "metadata": {},
   "outputs": [
    {
     "data": {
      "text/plain": [
       "0.3333333333333333"
      ]
     },
     "execution_count": 11,
     "metadata": {},
     "output_type": "execute_result"
    }
   ],
   "source": [
    "out['recall']"
   ]
  },
  {
   "cell_type": "code",
   "execution_count": 12,
   "metadata": {},
   "outputs": [
    {
     "data": {
      "text/plain": [
       "0.5416666666666666"
      ]
     },
     "execution_count": 12,
     "metadata": {},
     "output_type": "execute_result"
    }
   ],
   "source": [
    "out['aucroc']"
   ]
  },
  {
   "cell_type": "code",
   "execution_count": 13,
   "metadata": {},
   "outputs": [
    {
     "data": {
      "text/plain": [
       "0.6444444444444445"
      ]
     },
     "execution_count": 13,
     "metadata": {},
     "output_type": "execute_result"
    }
   ],
   "source": [
    "out['aucpr']"
   ]
  },
  {
   "cell_type": "markdown",
   "metadata": {},
   "source": [
    "### `binary_classifier_decile_analysis()`"
   ]
  },
  {
   "cell_type": "code",
   "execution_count": 16,
   "metadata": {},
   "outputs": [
    {
     "name": "stdout",
     "output_type": "stream",
     "text": [
      "+---------+------------+----------+\n",
      "| id_conta|target_value|        p1|\n",
      "+---------+------------+----------+\n",
      "|484034448|           0|0.54177165|\n",
      "|418564110|           0| 0.7748305|\n",
      "|464339157|           0|0.22917716|\n",
      "|309485972|           0|0.60101485|\n",
      "|154315670|           0|0.48498958|\n",
      "+---------+------------+----------+\n",
      "only showing top 5 rows\n",
      "\n"
     ]
    }
   ],
   "source": [
    "df = spark.createDataFrame(pd.read_csv('../tests/data/df_test_binary_classifier_decile_analysis.csv'))\n",
    "df.show(5)"
   ]
  },
  {
   "cell_type": "code",
   "execution_count": 17,
   "metadata": {},
   "outputs": [],
   "source": [
    "decile_table = cl_ev.binary_classifier_decile_analysis(\n",
    "        dfs=df,\n",
    "        col_id='id_conta',\n",
    "        col_target='target_value',\n",
    "        col_probability='p1'\n",
    "    )"
   ]
  },
  {
   "cell_type": "code",
   "execution_count": 19,
   "metadata": {},
   "outputs": [
    {
     "name": "stderr",
     "output_type": "stream",
     "text": [
      "                                                                                \r"
     ]
    },
    {
     "data": {
      "text/html": [
       "<div>\n",
       "<style scoped>\n",
       "    .dataframe tbody tr th:only-of-type {\n",
       "        vertical-align: middle;\n",
       "    }\n",
       "\n",
       "    .dataframe tbody tr th {\n",
       "        vertical-align: top;\n",
       "    }\n",
       "\n",
       "    .dataframe thead th {\n",
       "        text-align: right;\n",
       "    }\n",
       "</style>\n",
       "<table border=\"1\" class=\"dataframe\">\n",
       "  <thead>\n",
       "    <tr style=\"text-align: right;\">\n",
       "      <th></th>\n",
       "      <th>percentile</th>\n",
       "      <th>min_prob</th>\n",
       "      <th>max_prob</th>\n",
       "      <th>avg_prob</th>\n",
       "      <th>count_id</th>\n",
       "      <th>non_events</th>\n",
       "      <th>events</th>\n",
       "      <th>cum_non_events</th>\n",
       "      <th>cum_events</th>\n",
       "      <th>nonevent_rate</th>\n",
       "      <th>event_rate</th>\n",
       "      <th>cum_noneventrate</th>\n",
       "      <th>cum_eventrate</th>\n",
       "      <th>precision_at_percentile</th>\n",
       "      <th>ks</th>\n",
       "    </tr>\n",
       "  </thead>\n",
       "  <tbody>\n",
       "    <tr>\n",
       "      <th>0</th>\n",
       "      <td>1</td>\n",
       "      <td>0.692887</td>\n",
       "      <td>0.859826</td>\n",
       "      <td>0.753371</td>\n",
       "      <td>40</td>\n",
       "      <td>37</td>\n",
       "      <td>3</td>\n",
       "      <td>37</td>\n",
       "      <td>3</td>\n",
       "      <td>0.093671</td>\n",
       "      <td>0.250000</td>\n",
       "      <td>0.093671</td>\n",
       "      <td>0.250000</td>\n",
       "      <td>0.075000</td>\n",
       "      <td>1.563291e-01</td>\n",
       "    </tr>\n",
       "    <tr>\n",
       "      <th>1</th>\n",
       "      <td>2</td>\n",
       "      <td>0.610804</td>\n",
       "      <td>0.690563</td>\n",
       "      <td>0.655217</td>\n",
       "      <td>40</td>\n",
       "      <td>39</td>\n",
       "      <td>1</td>\n",
       "      <td>76</td>\n",
       "      <td>4</td>\n",
       "      <td>0.098734</td>\n",
       "      <td>0.083333</td>\n",
       "      <td>0.192405</td>\n",
       "      <td>0.333333</td>\n",
       "      <td>0.050000</td>\n",
       "      <td>1.409283e-01</td>\n",
       "    </tr>\n",
       "    <tr>\n",
       "      <th>2</th>\n",
       "      <td>3</td>\n",
       "      <td>0.501604</td>\n",
       "      <td>0.602958</td>\n",
       "      <td>0.541839</td>\n",
       "      <td>40</td>\n",
       "      <td>37</td>\n",
       "      <td>3</td>\n",
       "      <td>113</td>\n",
       "      <td>7</td>\n",
       "      <td>0.093671</td>\n",
       "      <td>0.250000</td>\n",
       "      <td>0.286076</td>\n",
       "      <td>0.583333</td>\n",
       "      <td>0.058333</td>\n",
       "      <td>2.972574e-01</td>\n",
       "    </tr>\n",
       "    <tr>\n",
       "      <th>3</th>\n",
       "      <td>4</td>\n",
       "      <td>0.447533</td>\n",
       "      <td>0.501213</td>\n",
       "      <td>0.476912</td>\n",
       "      <td>41</td>\n",
       "      <td>41</td>\n",
       "      <td>0</td>\n",
       "      <td>154</td>\n",
       "      <td>7</td>\n",
       "      <td>0.103797</td>\n",
       "      <td>0.000000</td>\n",
       "      <td>0.389873</td>\n",
       "      <td>0.583333</td>\n",
       "      <td>0.043478</td>\n",
       "      <td>1.934599e-01</td>\n",
       "    </tr>\n",
       "    <tr>\n",
       "      <th>4</th>\n",
       "      <td>5</td>\n",
       "      <td>0.426632</td>\n",
       "      <td>0.447533</td>\n",
       "      <td>0.445726</td>\n",
       "      <td>41</td>\n",
       "      <td>40</td>\n",
       "      <td>1</td>\n",
       "      <td>194</td>\n",
       "      <td>8</td>\n",
       "      <td>0.101266</td>\n",
       "      <td>0.083333</td>\n",
       "      <td>0.491139</td>\n",
       "      <td>0.666667</td>\n",
       "      <td>0.039604</td>\n",
       "      <td>1.755274e-01</td>\n",
       "    </tr>\n",
       "    <tr>\n",
       "      <th>5</th>\n",
       "      <td>6</td>\n",
       "      <td>0.316920</td>\n",
       "      <td>0.426480</td>\n",
       "      <td>0.376000</td>\n",
       "      <td>41</td>\n",
       "      <td>40</td>\n",
       "      <td>1</td>\n",
       "      <td>234</td>\n",
       "      <td>9</td>\n",
       "      <td>0.101266</td>\n",
       "      <td>0.083333</td>\n",
       "      <td>0.592405</td>\n",
       "      <td>0.750000</td>\n",
       "      <td>0.037037</td>\n",
       "      <td>1.575949e-01</td>\n",
       "    </tr>\n",
       "    <tr>\n",
       "      <th>6</th>\n",
       "      <td>7</td>\n",
       "      <td>0.291473</td>\n",
       "      <td>0.316920</td>\n",
       "      <td>0.297885</td>\n",
       "      <td>41</td>\n",
       "      <td>40</td>\n",
       "      <td>1</td>\n",
       "      <td>274</td>\n",
       "      <td>10</td>\n",
       "      <td>0.101266</td>\n",
       "      <td>0.083333</td>\n",
       "      <td>0.693671</td>\n",
       "      <td>0.833333</td>\n",
       "      <td>0.035211</td>\n",
       "      <td>1.396624e-01</td>\n",
       "    </tr>\n",
       "    <tr>\n",
       "      <th>7</th>\n",
       "      <td>8</td>\n",
       "      <td>0.258163</td>\n",
       "      <td>0.291473</td>\n",
       "      <td>0.280521</td>\n",
       "      <td>41</td>\n",
       "      <td>41</td>\n",
       "      <td>0</td>\n",
       "      <td>315</td>\n",
       "      <td>10</td>\n",
       "      <td>0.103797</td>\n",
       "      <td>0.000000</td>\n",
       "      <td>0.797468</td>\n",
       "      <td>0.833333</td>\n",
       "      <td>0.030769</td>\n",
       "      <td>3.586498e-02</td>\n",
       "    </tr>\n",
       "    <tr>\n",
       "      <th>8</th>\n",
       "      <td>9</td>\n",
       "      <td>0.196785</td>\n",
       "      <td>0.256523</td>\n",
       "      <td>0.220618</td>\n",
       "      <td>41</td>\n",
       "      <td>40</td>\n",
       "      <td>1</td>\n",
       "      <td>355</td>\n",
       "      <td>11</td>\n",
       "      <td>0.101266</td>\n",
       "      <td>0.083333</td>\n",
       "      <td>0.898734</td>\n",
       "      <td>0.916667</td>\n",
       "      <td>0.030055</td>\n",
       "      <td>1.793249e-02</td>\n",
       "    </tr>\n",
       "    <tr>\n",
       "      <th>9</th>\n",
       "      <td>10</td>\n",
       "      <td>0.007746</td>\n",
       "      <td>0.194345</td>\n",
       "      <td>0.146185</td>\n",
       "      <td>41</td>\n",
       "      <td>40</td>\n",
       "      <td>1</td>\n",
       "      <td>395</td>\n",
       "      <td>12</td>\n",
       "      <td>0.101266</td>\n",
       "      <td>0.083333</td>\n",
       "      <td>1.000000</td>\n",
       "      <td>1.000000</td>\n",
       "      <td>0.029484</td>\n",
       "      <td>1.110223e-16</td>\n",
       "    </tr>\n",
       "  </tbody>\n",
       "</table>\n",
       "</div>"
      ],
      "text/plain": [
       "   percentile  min_prob  max_prob  avg_prob  count_id  non_events  events  \\\n",
       "0           1  0.692887  0.859826  0.753371        40          37       3   \n",
       "1           2  0.610804  0.690563  0.655217        40          39       1   \n",
       "2           3  0.501604  0.602958  0.541839        40          37       3   \n",
       "3           4  0.447533  0.501213  0.476912        41          41       0   \n",
       "4           5  0.426632  0.447533  0.445726        41          40       1   \n",
       "5           6  0.316920  0.426480  0.376000        41          40       1   \n",
       "6           7  0.291473  0.316920  0.297885        41          40       1   \n",
       "7           8  0.258163  0.291473  0.280521        41          41       0   \n",
       "8           9  0.196785  0.256523  0.220618        41          40       1   \n",
       "9          10  0.007746  0.194345  0.146185        41          40       1   \n",
       "\n",
       "   cum_non_events  cum_events  nonevent_rate  event_rate  cum_noneventrate  \\\n",
       "0              37           3       0.093671    0.250000          0.093671   \n",
       "1              76           4       0.098734    0.083333          0.192405   \n",
       "2             113           7       0.093671    0.250000          0.286076   \n",
       "3             154           7       0.103797    0.000000          0.389873   \n",
       "4             194           8       0.101266    0.083333          0.491139   \n",
       "5             234           9       0.101266    0.083333          0.592405   \n",
       "6             274          10       0.101266    0.083333          0.693671   \n",
       "7             315          10       0.103797    0.000000          0.797468   \n",
       "8             355          11       0.101266    0.083333          0.898734   \n",
       "9             395          12       0.101266    0.083333          1.000000   \n",
       "\n",
       "   cum_eventrate  precision_at_percentile            ks  \n",
       "0       0.250000                 0.075000  1.563291e-01  \n",
       "1       0.333333                 0.050000  1.409283e-01  \n",
       "2       0.583333                 0.058333  2.972574e-01  \n",
       "3       0.583333                 0.043478  1.934599e-01  \n",
       "4       0.666667                 0.039604  1.755274e-01  \n",
       "5       0.750000                 0.037037  1.575949e-01  \n",
       "6       0.833333                 0.035211  1.396624e-01  \n",
       "7       0.833333                 0.030769  3.586498e-02  \n",
       "8       0.916667                 0.030055  1.793249e-02  \n",
       "9       1.000000                 0.029484  1.110223e-16  "
      ]
     },
     "execution_count": 19,
     "metadata": {},
     "output_type": "execute_result"
    }
   ],
   "source": [
    "decile_table.toPandas()"
   ]
  }
 ],
 "metadata": {
  "interpreter": {
   "hash": "604c540002d7c1a602a115001e40004a700e7e1b29ae4331249882fda5e70a0c"
  },
  "kernelspec": {
   "display_name": "Python 3.7.10 64-bit ('pyspark-ds-toolbox-Fn-Rjt-3-py3.7': poetry)",
   "language": "python",
   "name": "python3"
  },
  "language_info": {
   "codemirror_mode": {
    "name": "ipython",
    "version": 3
   },
   "file_extension": ".py",
   "mimetype": "text/x-python",
   "name": "python",
   "nbconvert_exporter": "python",
   "pygments_lexer": "ipython3",
   "version": "3.7.10"
  },
  "orig_nbformat": 4
 },
 "nbformat": 4,
 "nbformat_minor": 2
}
